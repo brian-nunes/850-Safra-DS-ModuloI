{
 "cells": [
  {
   "cell_type": "markdown",
   "metadata": {},
   "source": [
    "# Aula 6 - Funções\n",
    "\n",
    "Na aula de hoje, vamos explorar o seguinte tópico em Python:\n",
    "\n",
    "- 1) Funções\n",
    "_______\n",
    "\n",
    "### Habilidades a serem desenvolvidas\n",
    "\n",
    "Ao final da aula o aluno deve:\n",
    "\n",
    "- Conhecer o conceito de funções e sua importância;\n",
    "- Saber criar funções em Python;"
   ]
  },
  {
   "cell_type": "markdown",
   "metadata": {},
   "source": [
    "___\n",
    "___\n",
    "___\n"
   ]
  },
  {
   "cell_type": "markdown",
   "metadata": {},
   "source": [
    "## 1) Funções\n",
    "\n",
    "Até o momento, já vimos diversas funções em Python.\n",
    "\n",
    "- Na primeira aula, tivemos contato com a função `print()`, que exibe um texto na tela;\n",
    "\n",
    "- Depois, aprendemos sobre a função `input()`, que serve pra capturar algo que o usuário digita;\n",
    "\n",
    "- Em seguida, vimos algumas funções aplicada à listas, como a `sorted()`, para ordenar uma lista;\n"
   ]
  },
  {
   "cell_type": "code",
   "execution_count": 1,
   "metadata": {},
   "outputs": [
    {
     "name": "stdout",
     "output_type": "stream",
     "text": [
      "Olá\n"
     ]
    }
   ],
   "source": [
    "print(\"Olá\")"
   ]
  },
  {
   "cell_type": "code",
   "execution_count": 2,
   "metadata": {},
   "outputs": [],
   "source": [
    "variavel = input(\"digite algo: \")"
   ]
  },
  {
   "cell_type": "code",
   "execution_count": 5,
   "metadata": {},
   "outputs": [
    {
     "name": "stdout",
     "output_type": "stream",
     "text": [
      "3\n"
     ]
    }
   ],
   "source": [
    "maiorValor = max([1, 2, 3])\n",
    "print(maiorValor)"
   ]
  },
  {
   "cell_type": "code",
   "execution_count": 6,
   "metadata": {},
   "outputs": [
    {
     "name": "stdout",
     "output_type": "stream",
     "text": [
      "PYTHON\n"
     ]
    }
   ],
   "source": [
    "pythonCaps = \"python\".upper()\n",
    "print(pythonCaps)"
   ]
  },
  {
   "cell_type": "markdown",
   "metadata": {},
   "source": [
    "\n",
    "A intuição sobre funções, então, já nos é familiar:\n",
    "\n",
    "Uma função é um objeto utilizado para **fazer determinadas ações**.\n",
    "\n",
    "Podemos ver uma função como uma \"caixinha\" que pega uma **entrada** (o argumento), faz algum **processamento**, e então **retorna uma saída** (o output)\n",
    "\n",
    "<img src=\"https://s3.amazonaws.com/illustrativemathematics/images/000/000/782/medium/Task_1_8c7a6a9a2e1421586c40f125bd783de3.jpg?1335065782\" width=300>\n",
    "\n",
    "\n",
    "<img src=\"https://1.bp.blogspot.com/_MhOt9n2UJbM/TC6emeqHdqI/AAAAAAAAAiQ/1brsWuWvOC0/s1600/function-machine.png\" width=300>\n"
   ]
  },
  {
   "cell_type": "markdown",
   "metadata": {},
   "source": [
    "Aprenderemos agora como criar **nossas próprias funções** em Python!"
   ]
  },
  {
   "cell_type": "markdown",
   "metadata": {},
   "source": [
    "A estrutura de **definição de uma função** é dada por:\n",
    "\n",
    "```python\n",
    "def nomeDaFuncao(argumento1, argumento2, ...):\n",
    "    \n",
    "    instrucoes\n",
    "    \n",
    "    return saida\n",
    "```"
   ]
  },
  {
   "cell_type": "markdown",
   "metadata": {},
   "source": [
    "Há 5 elementos fundamentais para a criação de novas funções em Python:\n",
    "\n",
    "- Primeiramente, usamos \"def\" para deixar claro que estamos **definindo** uma função;\n",
    "- Depois, damos um **nome** para nossa função;\n",
    "- Em parênteses, falamos quais serão os **argumentos** da função -- esses são os inputs, e em python, esses elementos são opcionais!\n",
    "- Depois, explicitamos qual é o **processamento** feito pela função;\n",
    "- Ao fim, dizemos o que a função irá **retornar** -- esses são os outputs, e em Python esse elemento é opcional!"
   ]
  },
  {
   "cell_type": "markdown",
   "metadata": {},
   "source": [
    "Sempre que quisermos **executar** uma função, basta **chamá-la**, dando os argumentos desejados!\n",
    "\n",
    "```python\n",
    "nome_da_funcao(argumentos)\n",
    "```"
   ]
  },
  {
   "cell_type": "markdown",
   "metadata": {},
   "source": [
    "__Uma função sem argumentos e sem return__\n",
    "\n",
    "Apenas imprime algo na tela, mas sempre A MESMA COISA\n"
   ]
  },
  {
   "cell_type": "code",
   "execution_count": 14,
   "metadata": {},
   "outputs": [],
   "source": [
    "def cumprimenta():\n",
    "    \"\"\"\n",
    "    Função que cumprimenta usuário.\n",
    "    \"\"\"\n",
    "    print(\"Olá!\")"
   ]
  },
  {
   "cell_type": "markdown",
   "metadata": {},
   "source": [
    "__Chamando a função__"
   ]
  },
  {
   "cell_type": "code",
   "execution_count": 11,
   "metadata": {},
   "outputs": [
    {
     "name": "stdout",
     "output_type": "stream",
     "text": [
      "Olá!\n"
     ]
    }
   ],
   "source": [
    "cumprimenta()"
   ]
  },
  {
   "cell_type": "markdown",
   "metadata": {},
   "source": [
    "__Uma função com argumento, mas sem return__\n",
    "\n",
    "Imprime o que eu mandar na tela, como argumento!"
   ]
  },
  {
   "cell_type": "code",
   "execution_count": 12,
   "metadata": {},
   "outputs": [],
   "source": [
    "def cumprimenta(nome: str):\n",
    "    \"\"\"\n",
    "    Função que cumprimenta usuário.\\n\n",
    "    Parâmetros:\\n\n",
    "    nome: nome do usuário a ser cumprimentado\\n\n",
    "    \"\"\"\n",
    "    print(f\"Olá, {nome}\")"
   ]
  },
  {
   "cell_type": "code",
   "execution_count": 13,
   "metadata": {},
   "outputs": [
    {
     "name": "stdout",
     "output_type": "stream",
     "text": [
      "Olá, Bruna\n"
     ]
    }
   ],
   "source": [
    "cumprimenta(\"Bruna\")"
   ]
  },
  {
   "cell_type": "markdown",
   "metadata": {},
   "source": [
    "__Uma função com dois argumentos, mas ainda sem return__\n",
    "\n",
    "Imprime algo na tela, mas dependendo do segundo argumento que eu passar"
   ]
  },
  {
   "cell_type": "code",
   "execution_count": 19,
   "metadata": {},
   "outputs": [],
   "source": [
    "def cumprimenta_horario(nome: str, hora: int, teste):\n",
    "    \"\"\"\n",
    "    Função que cumprimenta usuário a partir do horário.\\n\n",
    "    Parâmetros:\\n\n",
    "    nome: nome do usuário a ser cumprimentado\\n\n",
    "    hora: hora de referência do cumprimento\\n\n",
    "    \"\"\"\n",
    "    if hora < 12:\n",
    "        print(f\"Bom dia, {nome}\")\n",
    "    elif hora < 18:\n",
    "        print(f\"Boa tarde, {nome}\")\n",
    "    else:\n",
    "        print(f\"Boa noite, {nome}\")"
   ]
  },
  {
   "cell_type": "code",
   "execution_count": 20,
   "metadata": {},
   "outputs": [
    {
     "name": "stdout",
     "output_type": "stream",
     "text": [
      "Bom dia, André\n"
     ]
    }
   ],
   "source": [
    "cumprimenta_horario(\"André\", 11)"
   ]
  },
  {
   "cell_type": "markdown",
   "metadata": {},
   "source": [
    "Posso mudar a ordem dos argumentos, mas pra isso devo explicitar exatamente quais são os valores que estou passando para quais argumentos!"
   ]
  },
  {
   "cell_type": "code",
   "execution_count": 23,
   "metadata": {},
   "outputs": [
    {
     "name": "stdout",
     "output_type": "stream",
     "text": [
      "Boa tarde, André\n"
     ]
    }
   ],
   "source": [
    "cumprimenta_horario(hora = 14, nome = \"André\")"
   ]
  },
  {
   "cell_type": "markdown",
   "metadata": {},
   "source": [
    "__Mas e o return?__\n",
    "\n",
    "\n",
    "Todas as funções acima de fato fazem alguma operação, mas nõs não conseguimos **acessar** o resultado das operações! Veja um exemplo mais claro: uma função que calcula a soma de dois números:"
   ]
  },
  {
   "cell_type": "code",
   "execution_count": 24,
   "metadata": {},
   "outputs": [],
   "source": [
    "def calcSoma(n1, n2):\n",
    "    soma = n1 + n2\n",
    "    print(soma)"
   ]
  },
  {
   "cell_type": "code",
   "execution_count": 27,
   "metadata": {},
   "outputs": [
    {
     "name": "stdout",
     "output_type": "stream",
     "text": [
      "42\n"
     ]
    }
   ],
   "source": [
    "x = 10\n",
    "\n",
    "calcSoma(x, 32)"
   ]
  },
  {
   "cell_type": "markdown",
   "metadata": {},
   "source": [
    "Note que a função calcula a soma dos números, mas apenas exibe este resultado com o print! \n",
    "\n",
    "**A variável \"soma\" é uma variável que existe apenas no interior da função!!**"
   ]
  },
  {
   "cell_type": "code",
   "execution_count": 31,
   "metadata": {},
   "outputs": [
    {
     "ename": "NameError",
     "evalue": "name 'soma' is not defined",
     "output_type": "error",
     "traceback": [
      "\u001b[1;31m---------------------------------------------------------------------------\u001b[0m",
      "\u001b[1;31mNameError\u001b[0m                                 Traceback (most recent call last)",
      "\u001b[1;32mc:\\Users\\brian\\AulasLetsCode\\Safra\\Repo\\850-Safra-DS-ModuloI\\Notebooks\\Aula 4 - Funções.ipynb Cell 29'\u001b[0m in \u001b[0;36m<cell line: 1>\u001b[1;34m()\u001b[0m\n\u001b[1;32m----> <a href='vscode-notebook-cell:/c%3A/Users/brian/AulasLetsCode/Safra/Repo/850-Safra-DS-ModuloI/Notebooks/Aula%204%20-%20Fun%C3%A7%C3%B5es.ipynb#ch0000028?line=0'>1</a>\u001b[0m soma\n",
      "\u001b[1;31mNameError\u001b[0m: name 'soma' is not defined"
     ]
    }
   ],
   "source": [
    "soma"
   ]
  },
  {
   "cell_type": "markdown",
   "metadata": {},
   "source": [
    "Se quisermos armazenar o valor da soma, podemos **retornar** o valor desta variável!\n",
    "\n",
    "**OBS.:** apenas o **valor** da variável é retornado, não o nome dela!!\n",
    "\n",
    "Fora da função, o nome de variável \"soma\" ainda continua não existindo!!"
   ]
  },
  {
   "cell_type": "code",
   "execution_count": 32,
   "metadata": {},
   "outputs": [],
   "source": [
    "def calcSoma(n1, n2):\n",
    "    soma = n1 + n2\n",
    "    return soma"
   ]
  },
  {
   "cell_type": "code",
   "execution_count": 34,
   "metadata": {},
   "outputs": [
    {
     "name": "stdout",
     "output_type": "stream",
     "text": [
      "A soma: 6\n"
     ]
    }
   ],
   "source": [
    "valorSoma = calcSoma(2, 4)\n",
    "print(f\"A soma: {valorSoma}\")"
   ]
  },
  {
   "cell_type": "markdown",
   "metadata": {},
   "source": [
    "Daí, basta armazenar o resultado retornado em uma variável, **como fazíamos com o input()!**"
   ]
  },
  {
   "cell_type": "code",
   "execution_count": 51,
   "metadata": {},
   "outputs": [
    {
     "data": {
      "text/plain": [
       "6"
      ]
     },
     "execution_count": 51,
     "metadata": {},
     "output_type": "execute_result"
    }
   ],
   "source": [
    "resultado = calcSoma(2, 4)\n",
    "\n",
    "resultado"
   ]
  },
  {
   "cell_type": "markdown",
   "metadata": {},
   "source": [
    "Um outro exemplo:"
   ]
  },
  {
   "cell_type": "code",
   "execution_count": 60,
   "metadata": {},
   "outputs": [],
   "source": [
    "def cumprimenta_horario(nome: str, hora: int) -> str:\n",
    "    \"\"\"\n",
    "    Função que cumprimenta usuário a partir do horário.\\n\n",
    "    Parâmetros:\\n\n",
    "    nome: nome do usuário a ser cumprimentado\\n\n",
    "    hora: hora de referência do cumprimento\\n\n",
    "    Retorno: cumprimento personalizado\n",
    "    \"\"\"\n",
    "    if hora < 12:\n",
    "        return f\"Bom dia, {nome}\"\n",
    "    elif hora < 18:\n",
    "        return f\"Boa tarde, {nome}\"\n",
    "    else:\n",
    "        return f\"Boa noite, {nome}\""
   ]
  },
  {
   "cell_type": "code",
   "execution_count": 61,
   "metadata": {},
   "outputs": [
    {
     "name": "stdout",
     "output_type": "stream",
     "text": [
      "Bom dia, André!!!\n"
     ]
    }
   ],
   "source": [
    "texto = cumprimenta_horario(\"André\", 11)\n",
    "\n",
    "print(f\"{texto}!!!\")"
   ]
  },
  {
   "cell_type": "markdown",
   "metadata": {},
   "source": [
    "Vamos elaborar um pouco mais?\n",
    "\n",
    "Que tal fazermos uma função calculadora?"
   ]
  },
  {
   "cell_type": "code",
   "execution_count": 74,
   "metadata": {},
   "outputs": [],
   "source": [
    "def calculadora(num1, num2, operacao = \"+\"):\n",
    "    if operacao == \"+\":\n",
    "        return num1 + num2\n",
    "    elif operacao == \"-\":\n",
    "        return num1 - num2\n",
    "    elif operacao == \"*\":\n",
    "        return num1 * num2\n",
    "    elif operacao == \"/\":\n",
    "        return num1 / num2\n",
    "    else: \n",
    "        return \"NÃO ENTENDI!\""
   ]
  },
  {
   "cell_type": "code",
   "execution_count": 75,
   "metadata": {},
   "outputs": [
    {
     "name": "stdout",
     "output_type": "stream",
     "text": [
      "7\n"
     ]
    }
   ],
   "source": [
    "operacao = input(\"Digite a operação (+,-,*,/): \")\n",
    "print(calculadora(5, 2))"
   ]
  },
  {
   "cell_type": "code",
   "execution_count": null,
   "metadata": {},
   "outputs": [],
   "source": [
    "calculadora(3, 5)"
   ]
  },
  {
   "cell_type": "markdown",
   "metadata": {},
   "source": [
    "Também é possível utilizar a função calculadora para definir uma função que calcula a média entre dois números:"
   ]
  },
  {
   "cell_type": "code",
   "execution_count": 76,
   "metadata": {},
   "outputs": [],
   "source": [
    "def media(num1, num2):\n",
    "    \n",
    "    return calculadora(num1, num2)/2"
   ]
  },
  {
   "cell_type": "code",
   "execution_count": 77,
   "metadata": {},
   "outputs": [
    {
     "name": "stdout",
     "output_type": "stream",
     "text": [
      "8.5\n"
     ]
    }
   ],
   "source": [
    "print(media(7, 10))"
   ]
  },
  {
   "cell_type": "markdown",
   "metadata": {},
   "source": [
    "## Multiplos retornos"
   ]
  },
  {
   "cell_type": "code",
   "execution_count": 48,
   "metadata": {},
   "outputs": [],
   "source": [
    "def soma_e_subtrai(num1, num2):\n",
    "    soma = num1 + num2\n",
    "    subtracao = num1 - num2\n",
    "    return soma, subtracao"
   ]
  },
  {
   "cell_type": "code",
   "execution_count": 50,
   "metadata": {},
   "outputs": [
    {
     "name": "stdout",
     "output_type": "stream",
     "text": [
      "A soma resultou em: 15\n",
      "A subtracao resultou em: 5\n"
     ]
    }
   ],
   "source": [
    "soma, subtracao = soma_e_subtrai(10, 5)\n",
    "print(f\"A soma resultou em: {soma}\")\n",
    "print(f\"A subtracao resultou em: {subtracao}\")"
   ]
  },
  {
   "cell_type": "markdown",
   "metadata": {},
   "source": [
    "## Exercícios\n",
    "\n",
    "\n",
    "Faça uma função que recebe dois parâmetros: linhas e colunas e desenhe uma tabela usando os caracteres (-, |, + e espaços) com essas dimensões, exemplo:\n",
    "\n",
    "linhas: 3\n",
    "colunas: 5\n",
    "\n",
    "    -----------\n",
    "    | | | | | |\n",
    "    |-+-+-+-+-|\n",
    "    | | | | | |\n",
    "    |-+-+-+-+-|\n",
    "    | | | | | |\n",
    "    -----------"
   ]
  },
  {
   "cell_type": "code",
   "execution_count": null,
   "metadata": {},
   "outputs": [],
   "source": []
  },
  {
   "cell_type": "markdown",
   "metadata": {},
   "source": [
    "Faça uma função que recebe um texto e um letra e retorne a quantidade daquela letra naquele texto (ignore diferenças de capitalização, 'A' e 'a' são a mesma letra)"
   ]
  },
  {
   "cell_type": "code",
   "execution_count": null,
   "metadata": {},
   "outputs": [],
   "source": []
  },
  {
   "cell_type": "markdown",
   "metadata": {},
   "source": [
    "Faça uma função que recebe um inteiro n e retorna uma lista com os n primeiros elementros da sequência de fibonacci"
   ]
  },
  {
   "cell_type": "code",
   "execution_count": null,
   "metadata": {},
   "outputs": [],
   "source": []
  },
  {
   "cell_type": "markdown",
   "metadata": {},
   "source": [
    "Faça uma função maxLista que faz a mesma coisa que a funcão _max_ faz ao receber uma lista"
   ]
  },
  {
   "cell_type": "code",
   "execution_count": null,
   "metadata": {},
   "outputs": [],
   "source": []
  }
 ],
 "metadata": {
  "interpreter": {
   "hash": "f62fd1b5f2f7bb8cee509ef117ad7243bf648f347219a0eab91c7e32772de67b"
  },
  "kernelspec": {
   "display_name": "Python 3.10.4 64-bit (windows store)",
   "language": "python",
   "name": "python3"
  },
  "language_info": {
   "codemirror_mode": {
    "name": "ipython",
    "version": 3
   },
   "file_extension": ".py",
   "mimetype": "text/x-python",
   "name": "python",
   "nbconvert_exporter": "python",
   "pygments_lexer": "ipython3",
   "version": "3.10.4"
  },
  "varInspector": {
   "cols": {
    "lenName": 16,
    "lenType": 16,
    "lenVar": 40
   },
   "kernels_config": {
    "python": {
     "delete_cmd_postfix": "",
     "delete_cmd_prefix": "del ",
     "library": "var_list.py",
     "varRefreshCmd": "print(var_dic_list())"
    },
    "r": {
     "delete_cmd_postfix": ") ",
     "delete_cmd_prefix": "rm(",
     "library": "var_list.r",
     "varRefreshCmd": "cat(var_dic_list()) "
    }
   },
   "types_to_exclude": [
    "module",
    "function",
    "builtin_function_or_method",
    "instance",
    "_Feature"
   ],
   "window_display": false
  }
 },
 "nbformat": 4,
 "nbformat_minor": 2
}
