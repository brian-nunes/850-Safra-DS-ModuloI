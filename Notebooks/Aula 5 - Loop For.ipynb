{
 "cells": [
  {
   "cell_type": "markdown",
   "metadata": {},
   "source": [
    "# Aula - Loop for"
   ]
  },
  {
   "cell_type": "markdown",
   "metadata": {},
   "source": [
    "### Laços de repetição (for)\n",
    "\n",
    "Na última aula, vimos como usar o laço de repetição \"while\" para repetir operações em Python\n",
    "\n",
    "Agora, veremos um outro laço, o **for**\n",
    "\n",
    "Mas, antes de vermos como este laço pode ser utilizado para **repetir operações**, é interessante entender o `for` como sendo, na realidade, um operador utilizado para **percorrer elementos de uma lista** (na verdade, de qualquer objeto **iterável**. Conheceremos outros objetos assim mais pra frente...)\n",
    "\n",
    "A estrutura do for é:\n",
    "\n",
    "```python\n",
    "for item in lista:\n",
    "    operacao_feita_pra_cada_item\n",
    "```"
   ]
  },
  {
   "cell_type": "code",
   "execution_count": 2,
   "metadata": {},
   "outputs": [
    {
     "name": "stdout",
     "output_type": "stream",
     "text": [
      "a\n",
      "b\n",
      "d\n",
      "True\n",
      "1\n",
      "3.6\n"
     ]
    }
   ],
   "source": [
    "lista = [\"a\", \"b\", \"d\", True, 1, 3.6]\n",
    "\n",
    "for item in lista:\n",
    "    print(item)"
   ]
  },
  {
   "cell_type": "code",
   "execution_count": 4,
   "metadata": {},
   "outputs": [
    {
     "name": "stdout",
     "output_type": "stream",
     "text": [
      "a\n",
      "b\n",
      "d\n",
      "True\n",
      "1\n",
      "3.6\n"
     ]
    }
   ],
   "source": [
    "lista = [\"a\", \"b\", \"d\", True, 1, 3.6]\n",
    "\n",
    "indice = 0\n",
    "while indice < len(lista):\n",
    "    item = lista[indice]\n",
    "    print(item)\n",
    "    indice += 1"
   ]
  },
  {
   "cell_type": "markdown",
   "metadata": {},
   "source": [
    "O código acima é equivalente a:"
   ]
  },
  {
   "cell_type": "code",
   "execution_count": null,
   "metadata": {},
   "outputs": [],
   "source": [
    "lista = [\"a\", \"b\", \"c\", \"d\"]\n",
    "\n",
    "print(lista[0])\n",
    "print(lista[1])\n",
    "print(lista[2])\n",
    "print(lista[3])"
   ]
  },
  {
   "cell_type": "markdown",
   "metadata": {},
   "source": [
    "**Exemplos:**"
   ]
  },
  {
   "cell_type": "code",
   "execution_count": 5,
   "metadata": {},
   "outputs": [
    {
     "name": "stdout",
     "output_type": "stream",
     "text": [
      "[4, 5, 6, 5, 56, 7, 78, 9]\n",
      "[-6, -10, -80]\n"
     ]
    }
   ],
   "source": [
    "lista = [4, 5, 6, 5, -6, 56, 7, -10, 78, -80, 9]\n",
    "\n",
    "lista_neg = []\n",
    "lista_pos = []\n",
    "\n",
    "for elemento in lista:\n",
    "    if elemento < 0:\n",
    "        lista_neg.append(elemento)\n",
    "    else:\n",
    "        lista_pos.append(elemento)\n",
    "        \n",
    "print(lista_pos)\n",
    "print(lista_neg)"
   ]
  },
  {
   "cell_type": "code",
   "execution_count": 6,
   "metadata": {},
   "outputs": [
    {
     "name": "stdout",
     "output_type": "stream",
     "text": [
      "O\n",
      "l\n",
      "á\n",
      ",\n",
      " \n",
      "M\n",
      "u\n",
      "n\n",
      "d\n",
      "o\n",
      "!\n"
     ]
    }
   ],
   "source": [
    "txt = \"Olá, Mundo!\"\n",
    "\n",
    "for letra in txt:\n",
    "    print(letra)"
   ]
  },
  {
   "cell_type": "markdown",
   "metadata": {},
   "source": [
    "Podemos fazer operações com os elementos de umas lista e usá-los pra preencher outra lista:"
   ]
  },
  {
   "cell_type": "code",
   "execution_count": 11,
   "metadata": {},
   "outputs": [
    {
     "name": "stdout",
     "output_type": "stream",
     "text": [
      "[2, 4, 6, 10, 306, -112, 'aa']\n"
     ]
    }
   ],
   "source": [
    "lista = [1, 2, 3, 5, 153, -56]\n",
    "lista_dobro = []\n",
    "\n",
    "for elemento in lista:\n",
    "    lista_dobro.append(2*elemento)\n",
    "    \n",
    "print(lista_dobro)"
   ]
  },
  {
   "cell_type": "code",
   "execution_count": 29,
   "metadata": {},
   "outputs": [
    {
     "name": "stdout",
     "output_type": "stream",
     "text": [
      "[1, 2, 3, 5, 153, 56]\n"
     ]
    }
   ],
   "source": [
    "lista = [1, 2, -3, 5, 153, -56, \"a\"]\n",
    "lista_modulos = []\n",
    "\n",
    "for elemento in lista:\n",
    "    if type(elemento) == int:\n",
    "        if elemento < 0:\n",
    "            lista_modulos.append(-elemento)\n",
    "        else:\n",
    "            lista_modulos.append(elemento)\n",
    "\n",
    "print(lista_modulos)"
   ]
  },
  {
   "cell_type": "code",
   "execution_count": 30,
   "metadata": {},
   "outputs": [
    {
     "name": "stdout",
     "output_type": "stream",
     "text": [
      "1\n",
      "2\n",
      "-3\n",
      "5\n",
      "153\n",
      "-56\n",
      "10\n"
     ]
    }
   ],
   "source": [
    "lista = [1, 2, -3, 5, 153, -56]\n",
    "\n",
    "for numero in lista:\n",
    "    if numero > 10:\n",
    "        lista.append(10)\n",
    "    print(numero)"
   ]
  },
  {
   "cell_type": "code",
   "execution_count": 31,
   "metadata": {},
   "outputs": [
    {
     "name": "stdout",
     "output_type": "stream",
     "text": [
      "1\n",
      "2\n",
      "-3\n",
      "5\n",
      "153\n",
      "-56\n"
     ]
    }
   ],
   "source": [
    "lista = [1, 2, -3, 5, 153, -56, 8]\n",
    "\n",
    "for numero in lista:\n",
    "    if numero > 10:\n",
    "        lista.pop()\n",
    "    print(numero)"
   ]
  },
  {
   "cell_type": "code",
   "execution_count": 34,
   "metadata": {},
   "outputs": [
    {
     "name": "stdout",
     "output_type": "stream",
     "text": [
      "1\n",
      "2\n",
      "-3\n",
      "5\n",
      "153\n",
      "8\n"
     ]
    }
   ],
   "source": [
    "lista = [1, 2, -3, 5, 153, -56, 8]\n",
    "\n",
    "for numero in lista:\n",
    "    if numero > 10:\n",
    "        lista.pop(0)\n",
    "    print(numero)"
   ]
  },
  {
   "cell_type": "code",
   "execution_count": 39,
   "metadata": {},
   "outputs": [
    {
     "name": "stdout",
     "output_type": "stream",
     "text": [
      "1\n",
      "2\n",
      "-3\n",
      "5\n",
      "153\n",
      "-56\n",
      "8\n"
     ]
    }
   ],
   "source": [
    "lista = [1, 2, -3, 5, 153, -56, 8]\n",
    "\n",
    "indice = 0\n",
    "while indice <  len(lista):\n",
    "    numero = lista[indice]\n",
    "    if numero > 10:\n",
    "        lista.pop(0)\n",
    "        indice -= 1\n",
    "    print(numero)\n",
    "    indice += 1"
   ]
  },
  {
   "cell_type": "code",
   "execution_count": 85,
   "metadata": {},
   "outputs": [
    {
     "name": "stdout",
     "output_type": "stream",
     "text": [
      "['1a', '2a', '3a', '5a', '153a', '-56a']\n"
     ]
    }
   ],
   "source": [
    "lista = [1, 2, 3, 5, 153, -56]\n",
    "lista_concatena_a = []\n",
    "\n",
    "for elemento in lista:\n",
    "    lista_concatena_a.append(str(elemento)+\"a\")\n",
    "    \n",
    "print(lista_concatena_a)"
   ]
  },
  {
   "cell_type": "code",
   "execution_count": 86,
   "metadata": {},
   "outputs": [
    {
     "name": "stdout",
     "output_type": "stream",
     "text": [
      "['1a', '2b', '3c', '5d', '153e', '-56f']\n"
     ]
    }
   ],
   "source": [
    "lista_numeros = [1, 2, 3, 5, 153, -56]\n",
    "lista_string = [\"a\", \"b\", \"c\", \"d\", \"e\", \"f\"]\n",
    "lista_concatenada = []\n",
    "\n",
    "for indice in range(len(lista_numeros)):\n",
    "    lista_concatenada.append(str(lista_numeros[indice])+lista_string[indice])\n",
    "    \n",
    "print(lista_concatenada)"
   ]
  },
  {
   "cell_type": "code",
   "execution_count": 91,
   "metadata": {},
   "outputs": [
    {
     "name": "stdout",
     "output_type": "stream",
     "text": [
      "['1a', '2b', '3c', '5d', '153e', '-56f', 106, 7, 9]\n"
     ]
    }
   ],
   "source": [
    "lista_numeros = [1, 2, 3, 5, 153, -56, 106, 7, 9]\n",
    "lista_string = [\"a\", \"b\", \"c\", \"d\", \"e\", \"f\"]\n",
    "lista_concatenada = []\n",
    "\n",
    "len_menor = min(len(lista_numeros), len(lista_string))\n",
    "\n",
    "for indice in range(len_menor):\n",
    "    lista_concatenada.append(str(lista_numeros[indice])+lista_string[indice])\n",
    "\n",
    "lista_concatenada += lista_numeros[len_menor:] if len(lista_numeros) > len(lista_string) else lista_string[len_menor:]\n",
    "    \n",
    "print(lista_concatenada)"
   ]
  },
  {
   "cell_type": "markdown",
   "metadata": {},
   "source": [
    "### Break, Continue e Else\n",
    "\n",
    "#### Break"
   ]
  },
  {
   "cell_type": "code",
   "execution_count": 40,
   "metadata": {},
   "outputs": [
    {
     "name": "stdout",
     "output_type": "stream",
     "text": [
      "1\n",
      "4\n"
     ]
    }
   ],
   "source": [
    "lista = [1, 4, -5, 6, 5, 56, 7, -10, 78, 80, 9]\n",
    "\n",
    "for elemento in lista:\n",
    "    if elemento < 0:\n",
    "        # quebrando o laço ao encontrar um elemento negativo\n",
    "        break\n",
    "    \n",
    "    print(elemento)"
   ]
  },
  {
   "cell_type": "markdown",
   "metadata": {},
   "source": [
    "#### Continue"
   ]
  },
  {
   "cell_type": "code",
   "execution_count": 41,
   "metadata": {},
   "outputs": [
    {
     "name": "stdout",
     "output_type": "stream",
     "text": [
      "1\n",
      "4\n",
      "6\n",
      "5\n",
      "56\n",
      "7\n",
      "78\n",
      "80\n",
      "9\n"
     ]
    }
   ],
   "source": [
    "lista = [1, 4, -5, 6, 5, 56, 7, -10, 78, 80, 9]\n",
    "\n",
    "for elemento in lista:\n",
    "    if elemento < 0:\n",
    "        # pulando o resto do laço ao encontrar um elemento negativo\n",
    "        continue\n",
    "    \n",
    "    print(elemento)"
   ]
  },
  {
   "cell_type": "markdown",
   "metadata": {},
   "source": [
    "#### Else"
   ]
  },
  {
   "cell_type": "code",
   "execution_count": 42,
   "metadata": {},
   "outputs": [
    {
     "name": "stdout",
     "output_type": "stream",
     "text": [
      "1\n",
      "4\n",
      "6\n",
      "5\n",
      "56\n",
      "7\n",
      "78\n",
      "80\n",
      "9\n",
      "Loop Finalizado\n"
     ]
    }
   ],
   "source": [
    "lista = [1, 4, -5, 6, 5, 56, 7, -10, 78, 80, 9]\n",
    "\n",
    "for elemento in lista:\n",
    "    if elemento < 0:\n",
    "        # pulando o resto do laço ao encontrar um elemento negativo\n",
    "        continue\n",
    "    \n",
    "    print(elemento)\n",
    "else:\n",
    "    print(\"Loop Finalizado\")"
   ]
  },
  {
   "cell_type": "code",
   "execution_count": 43,
   "metadata": {},
   "outputs": [
    {
     "name": "stdout",
     "output_type": "stream",
     "text": [
      "1\n",
      "4\n"
     ]
    }
   ],
   "source": [
    "lista = [1, 4, -5, 6, 5, 56, 7, -10, 78, 80, 9]\n",
    "\n",
    "for elemento in lista:\n",
    "    if elemento < 0:\n",
    "        # quebrando o laço ao encontrar um elemento negativo\n",
    "        break\n",
    "    print(elemento)\n",
    "else:\n",
    "    print(\"Loop Finalizado\")"
   ]
  },
  {
   "cell_type": "markdown",
   "metadata": {},
   "source": [
    "### Função Range()"
   ]
  },
  {
   "cell_type": "markdown",
   "metadata": {},
   "source": [
    "É muito comum utilizarmos a função \"range()\" juntamente do for\n",
    "\n",
    "Essa função cria um **intervalo**, que é uma espécie de \"lista virtual\" de **números em sequência**. Sua sintaxe é:\n",
    "\n",
    "- range(primeiro_numero, último_numero - 1, passo)\n",
    "\n",
    "Se for dado apenas um argumento, o padrão é começar por zero, e ir de 1 em 1:\n",
    "\n",
    "- range(10) é equivalente a range(0, 10, 1), cria uma sequência de 0 a 9, de 1 em 1\n",
    "- range(-12, 12, 2): cria uma sequência de -12 a 11, de 2 em 2\n",
    "\n",
    "Ao fazermos list(range()), obtermos uma lista correspondente ao iterável.\n",
    "\n",
    "**OBS: só podemos fazer iteráveis de int!**"
   ]
  },
  {
   "cell_type": "code",
   "execution_count": 46,
   "metadata": {},
   "outputs": [
    {
     "data": {
      "text/plain": [
       "[0, 1, 2, 3, 4]"
      ]
     },
     "execution_count": 46,
     "metadata": {},
     "output_type": "execute_result"
    }
   ],
   "source": [
    "list(range(5))"
   ]
  },
  {
   "cell_type": "code",
   "execution_count": 47,
   "metadata": {},
   "outputs": [
    {
     "data": {
      "text/plain": [
       "[2, 3, 4, 5, 6, 7, 8, 9, 10]"
      ]
     },
     "execution_count": 47,
     "metadata": {},
     "output_type": "execute_result"
    }
   ],
   "source": [
    "list(range(2, 11))"
   ]
  },
  {
   "cell_type": "code",
   "execution_count": 49,
   "metadata": {},
   "outputs": [
    {
     "data": {
      "text/plain": [
       "[1, 3, 5, 7, 9, 11, 13]"
      ]
     },
     "execution_count": 49,
     "metadata": {},
     "output_type": "execute_result"
    }
   ],
   "source": [
    "list(range(1, 15, 2))"
   ]
  },
  {
   "cell_type": "code",
   "execution_count": 51,
   "metadata": {},
   "outputs": [
    {
     "data": {
      "text/plain": [
       "[5, 4, 3, 2, 1]"
      ]
     },
     "execution_count": 51,
     "metadata": {},
     "output_type": "execute_result"
    }
   ],
   "source": [
    "list(range(5, 0, -1))"
   ]
  },
  {
   "cell_type": "code",
   "execution_count": 52,
   "metadata": {},
   "outputs": [
    {
     "data": {
      "text/plain": [
       "[-10, -8, -6, -4, -2]"
      ]
     },
     "execution_count": 52,
     "metadata": {},
     "output_type": "execute_result"
    }
   ],
   "source": [
    "list(range(-10, 0, 2))"
   ]
  },
  {
   "cell_type": "code",
   "execution_count": 55,
   "metadata": {},
   "outputs": [
    {
     "data": {
      "text/plain": [
       "[-10, -8, -6, -4, -2]"
      ]
     },
     "execution_count": 55,
     "metadata": {},
     "output_type": "execute_result"
    }
   ],
   "source": [
    "incremento = int(input(\"Qual passo deseja? \"))\n",
    "list(range(-10, 0, incremento))"
   ]
  },
  {
   "cell_type": "markdown",
   "metadata": {},
   "source": [
    "É muito comum usar o for com o range para **percorrer os índices de uma lista**, e assim também **acessar os elementos da lista através do índice**.\n",
    "\n",
    "Isso é feito passando pro range o comprinento da lista como argumento!"
   ]
  },
  {
   "cell_type": "code",
   "execution_count": 56,
   "metadata": {},
   "outputs": [
    {
     "name": "stdout",
     "output_type": "stream",
     "text": [
      "1 b\n",
      "3 d\n",
      "5 2\n",
      "7 6\n"
     ]
    }
   ],
   "source": [
    "lista = [\"a\", \"b\", \"c\", \"d\", 1, 2, 5, 6]\n",
    "\n",
    "for i in range(len(lista)): \n",
    "    if (i % 2 != 0):\n",
    "        print(i, lista[i])"
   ]
  },
  {
   "cell_type": "code",
   "execution_count": 59,
   "metadata": {},
   "outputs": [
    {
     "name": "stdout",
     "output_type": "stream",
     "text": [
      "1 b\n",
      "3 d\n",
      "5 2\n",
      "7 6\n"
     ]
    }
   ],
   "source": [
    "lista = [\"a\", \"b\", \"c\", \"d\", 1, 2, 5, 6]\n",
    "\n",
    "for i in range(1, len(lista), 2): \n",
    "    print(i, lista[i])"
   ]
  },
  {
   "cell_type": "code",
   "execution_count": 83,
   "metadata": {},
   "outputs": [
    {
     "name": "stdout",
     "output_type": "stream",
     "text": [
      "lista1 [1, 3, 7, 10, 19]\n",
      "lista2 [2, 3, 3, 9, 11, 19, 20, 32]\n",
      "lista2_copia [2, 3, 9, 11, 20, 32]\n",
      "lista3 [3, 19]\n"
     ]
    }
   ],
   "source": [
    "lista1 = [1, 3, 7, 10, 19]\n",
    "lista2 = [2, 3, 3, 9, 11, 19, 20, 32]\n",
    "lista3 = []\n",
    "lista2_copia = lista2.copy()\n",
    "\n",
    "for numero1 in lista1:\n",
    "    for numero2 in lista2_copia:\n",
    "        if numero1 == numero2:\n",
    "            lista3.append(numero1)\n",
    "            lista2_copia.remove(numero2)\n",
    "            break\n",
    "\n",
    "print(\"lista1\", lista1)\n",
    "print(\"lista2\", lista2)\n",
    "print(\"lista2_copia\", lista2_copia)\n",
    "print(\"lista3\", lista3)"
   ]
  },
  {
   "cell_type": "markdown",
   "metadata": {},
   "source": [
    "O range é muito interessante caso **queiramos repetir determinada instrução**\n",
    "\n",
    "Se vc quer repetir N vezes, basta fazer:\n",
    "\n",
    "```python\n",
    "for i in range(N):\n",
    "    operacao_repetida\n",
    "```\n",
    "\n",
    "É neste sentido que o `for` passa a ser explicitamente um laço de repetição!\n",
    "\n",
    "Mas note que este laço se diferencia do while no fato de **não precisar de uma condição explícita**\n",
    "\n",
    "Este laço determina que as operações sejam repetidas **para valores em uma lista** (que no caso é o `range`).\n",
    "\n",
    "Este laço é, portanto, bem mais controlado -- dificilmente ocorrerá loops infinitos!"
   ]
  },
  {
   "cell_type": "code",
   "execution_count": 95,
   "metadata": {},
   "outputs": [
    {
     "name": "stdout",
     "output_type": "stream",
     "text": [
      "Olá, mundo\n",
      "Olá, mundo\n",
      "Olá, mundo\n",
      "Olá, mundo\n",
      "Olá, mundo\n"
     ]
    }
   ],
   "source": [
    "for x in range(5):\n",
    "    print(\"Olá, mundo\")"
   ]
  },
  {
   "cell_type": "markdown",
   "metadata": {},
   "source": [
    "Note que o código acima é equivalente a:"
   ]
  },
  {
   "cell_type": "code",
   "execution_count": 96,
   "metadata": {},
   "outputs": [
    {
     "name": "stdout",
     "output_type": "stream",
     "text": [
      "Olá, mundo\n",
      "Olá, mundo\n",
      "Olá, mundo\n",
      "Olá, mundo\n",
      "Olá, mundo\n"
     ]
    }
   ],
   "source": [
    "for i in [0, 1, 2, 3, 4]:\n",
    "    print(\"Olá, mundo\")"
   ]
  },
  {
   "cell_type": "markdown",
   "metadata": {},
   "source": [
    "Podemos usar o Enumerate para conseguir valor e índice ao mesmo tempo:"
   ]
  },
  {
   "cell_type": "code",
   "execution_count": 98,
   "metadata": {},
   "outputs": [
    {
     "data": {
      "text/plain": [
       "[(0, 'a'), (1, 'b'), (2, 'c'), (3, 'd'), (4, 1), (5, 2), (6, 5), (7, 6)]"
      ]
     },
     "execution_count": 98,
     "metadata": {},
     "output_type": "execute_result"
    }
   ],
   "source": [
    "lista = [\"a\", \"b\", \"c\", \"d\", 1, 2, 5, 6]\n",
    "\n",
    "list(enumerate(lista))"
   ]
  },
  {
   "cell_type": "code",
   "execution_count": 100,
   "metadata": {},
   "outputs": [
    {
     "name": "stdout",
     "output_type": "stream",
     "text": [
      "0 a\n",
      "2 c\n",
      "4 1\n",
      "6 5\n"
     ]
    }
   ],
   "source": [
    "lista = [\"a\", \"b\", \"c\", \"d\", 1, 2, 5, 6]\n",
    "\n",
    "for idx, valor in enumerate(lista):\n",
    "    if idx%2==0:\n",
    "        print(idx, valor)"
   ]
  },
  {
   "cell_type": "markdown",
   "metadata": {},
   "source": [
    "### Exercícios:"
   ]
  },
  {
   "cell_type": "markdown",
   "metadata": {},
   "source": [
    "1) Escreva um algoritmo que receba um número (inteiro e positivo) e calcule seu fatorial"
   ]
  },
  {
   "cell_type": "code",
   "execution_count": null,
   "metadata": {},
   "outputs": [],
   "source": []
  },
  {
   "cell_type": "markdown",
   "metadata": {},
   "source": [
    "2) Escreva um algoritmo que receba um numero e inteiro < 11 e imprima sua tabuada "
   ]
  },
  {
   "cell_type": "code",
   "execution_count": null,
   "metadata": {},
   "outputs": [],
   "source": []
  },
  {
   "attachments": {
    "image.png": {
     "image/png": "[encoded data removed]"
    }
   },
   "cell_type": "markdown",
   "metadata": {},
   "source": [
    "3) Escreva um algoritmo que imprima o seguinte padrão:\n",
    "   \n",
    "<br>\n",
    "1 <br>\n",
    "1 2<br>\n",
    "1 2 3<br>\n",
    "1 2 3 4<br>\n",
    "1 2 3 4 5<br>\n",
    "...<br>"
   ]
  },
  {
   "cell_type": "code",
   "execution_count": null,
   "metadata": {},
   "outputs": [],
   "source": []
  }
 ],
 "metadata": {
  "interpreter": {
   "hash": "f62fd1b5f2f7bb8cee509ef117ad7243bf648f347219a0eab91c7e32772de67b"
  },
  "kernelspec": {
   "display_name": "Python 3.10.4 64-bit (windows store)",
   "language": "python",
   "name": "python3"
  },
  "language_info": {
   "codemirror_mode": {
    "name": "ipython",
    "version": 3
   },
   "file_extension": ".py",
   "mimetype": "text/x-python",
   "name": "python",
   "nbconvert_exporter": "python",
   "pygments_lexer": "ipython3",
   "version": "3.10.4"
  }
 },
 "nbformat": 4,
 "nbformat_minor": 2
}
