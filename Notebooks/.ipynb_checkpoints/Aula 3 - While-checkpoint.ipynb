{
 "cells": [
  {
   "cell_type": "markdown",
   "metadata": {},
   "source": [
    "# Aula 3 - Loop While\n",
    "\n",
    "Na aula de hoje, vamos explorar o seguinte tópico em Python:\n",
    "\n",
    "- 1) Laços de repetição (while).\n",
    "\n",
    "_______\n",
    "\n",
    "### Objetivos\n",
    "\n",
    "Laço de repetição while, frisando aqui a necessidade de atualização da condição para evitar loops infinitos. Nesta aula, será mostrado como os operadores lógicos são utilizados nas novas estruturas apresentadas. "
   ]
  },
  {
   "cell_type": "markdown",
   "metadata": {},
   "source": [
    "____\n",
    "____\n",
    "____"
   ]
  },
  {
   "cell_type": "markdown",
   "metadata": {},
   "source": [
    "## 3) Laços de repetição (while)\n",
    "\n",
    "Uma das utilidades de linguagens de programação é a de automatizar tarefas que são repetitivas.\n",
    "\n",
    "Mas, pra isso ser viável, seria bom se tivéssemos uma estrutura para **repetir comandos**, não é mesmo?\n",
    "\n",
    "Imagine que eu queira exibir na tela \"Olá, mundo!\" 5 vezes. Podemos fazer:"
   ]
  },
  {
   "cell_type": "code",
   "execution_count": null,
   "metadata": {},
   "outputs": [],
   "source": [
    "print(\"Olá, mundo!\")\n",
    "print(\"Olá, mundo!\")\n",
    "print(\"Olá, mundo!\")\n",
    "print(\"Olá, mundo!\")\n",
    "print(\"Olá, mundo!\")"
   ]
  },
  {
   "cell_type": "code",
   "execution_count": null,
   "metadata": {},
   "outputs": [],
   "source": [
    "contador = 0\n",
    "while contador < 10:\n",
    "    print('Olá, mundo!')\n",
    "    contador += 1"
   ]
  },
  {
   "cell_type": "markdown",
   "metadata": {},
   "source": [
    "Mas, e se eu quiser exibir essa mensagem 1000 vezes? Ou 1 milhão de vezes? Não é ideal escrevermos o mesmo pedaço de código tantas vezes, né?\n",
    "\n",
    "Para isso, existem os **laços de repetição**, que permitem repetir pedaços de código quantas vezes desejarmos!\n",
    "\n",
    "O primeiro laço que vamos ver é o **while**. Este laço tem a seguinte estrutura:\n",
    "\n",
    "```python\n",
    "while (condicao é True):\n",
    "    operacao_repetida\n",
    "```\n",
    "\n",
    "Ou seja, o que tá no bloco do while é repetido **enquanto a condição for verdadeira**"
   ]
  },
  {
   "cell_type": "markdown",
   "metadata": {},
   "source": [
    "Isso pode levar a **loops infinitos**"
   ]
  },
  {
   "cell_type": "code",
   "execution_count": null,
   "metadata": {},
   "outputs": [],
   "source": [
    "while 2==2:\n",
    "    print(\"Olá, mundo\")"
   ]
  },
  {
   "cell_type": "markdown",
   "metadata": {},
   "source": [
    "Para que loops infinitos não aconteçam, temos que fazer uma **atualização da condição** a cada iteração do laço!\n",
    "\n",
    "Isso é, temos que **atualizar** a variavel que contabiliza as repetições no loop"
   ]
  },
  {
   "cell_type": "code",
   "execution_count": null,
   "metadata": {},
   "outputs": [],
   "source": [
    "# vamos definir uma variável\n",
    "# \"x recebe o valor'aa' 2\"\n",
    "\n",
    "x = 2\n",
    "\n",
    "# podemos redefinir a variável em termos do valor anterior dela\n",
    "# \"x recebe o valor que tinha ANTES na variável, + 3\"\n",
    "x = x + 3\n",
    "\n",
    "# chamando a variável\n",
    "x"
   ]
  },
  {
   "cell_type": "markdown",
   "metadata": {},
   "source": [
    "Assim, o que fazemos é **definir a condição do while em termos de uma variável que tenha seu valor atualizado!**\n",
    "\n",
    "Para isso, é comum nos referirmos à variàvel da condição como **variável contadora**.\n",
    "\n",
    "Para atualizar a variável contadora dentro do while, em geral a atualizamos em +1"
   ]
  },
  {
   "cell_type": "code",
   "execution_count": null,
   "metadata": {},
   "outputs": [],
   "source": [
    "cont = 0\n",
    "\n",
    "while cont < 5:\n",
    "    print(\"Olá mundo\")\n",
    "    cont += 1\n",
    "    print(cont)\n",
    "    print(cont < 5)"
   ]
  },
  {
   "cell_type": "markdown",
   "metadata": {},
   "source": [
    "Vamos entender um pouco melhor como a variável contadora se comporta?\n",
    "\n",
    "Pra isso, basta exibi-la a cada iteração:"
   ]
  },
  {
   "cell_type": "code",
   "execution_count": null,
   "metadata": {},
   "outputs": [],
   "source": [
    "cont = 0\n",
    "\n",
    "while cont < 5:\n",
    "    \n",
    "    print(cont)\n",
    "    \n",
    "    # cont += 1\n",
    "    cont = cont + 1"
   ]
  },
  {
   "cell_type": "markdown",
   "metadata": {},
   "source": [
    "O código acima equivale a:"
   ]
  },
  {
   "cell_type": "code",
   "execution_count": null,
   "metadata": {},
   "outputs": [],
   "source": [
    "# inicialmente, a variavel cont vale 0\n",
    "cont = 0\n",
    "print(cont)\n",
    "\n",
    "# pegamos o valor anterior (0) e somamos 1, ficando 1\n",
    "cont = cont + 1\n",
    "print(cont)\n",
    "\n",
    "# pegamos o valor anterior (1) e somamos 1, ficando 2\n",
    "cont = cont + 1\n",
    "print(cont)\n",
    "\n",
    "# pegamos o valor anterior (2) e somamos 1, ficando 3\n",
    "cont = cont + 1\n",
    "print(cont)\n",
    "\n",
    "# pegamos o valor anterior (3) e somamos 1, ficando 4\n",
    "cont = cont + 1\n",
    "print(cont)"
   ]
  },
  {
   "cell_type": "markdown",
   "metadata": {},
   "source": [
    "Usar a condição com < ao invés de != em geral garante maior segurança ao seu algoritmo, pois evita imprevistos caso você receba números do usuário!"
   ]
  },
  {
   "cell_type": "markdown",
   "metadata": {},
   "source": [
    "Podemos também atualizar a condição de repetição segundo informado pelo usuário\n",
    "\n",
    "Esse uso é bem importante para **garantir que o usuário digitou corretamente o que foi solicitado**\n",
    "\n",
    "Por exemplo, vamos pedir pro usuário digitar um número maior que 10. **Enquanto ele não fizer o que queremos**, vamos continuar pedindo pra ele digitar um novo valor:"
   ]
  },
  {
   "cell_type": "code",
   "execution_count": null,
   "metadata": {},
   "outputs": [],
   "source": [
    "numero = 0\n",
    "\n",
    "while numero <= 10:\n",
    "    numero = int(input(\"Digite um numero maior que 10: \"))\n",
    "    \n",
    "print(\"O numero digitado foi: \", numero)"
   ]
  },
  {
   "cell_type": "markdown",
   "metadata": {},
   "source": [
    "Outro exemplo, onde pedirmos pro usuário digitar sua nota (para ser um valor válido, tem que estar entre 0 e 10!)"
   ]
  },
  {
   "cell_type": "code",
   "execution_count": null,
   "metadata": {},
   "outputs": [],
   "source": [
    "nota = -1\n",
    "\n",
    "while not(0 <= nota <= 10):\n",
    "    nota = int(input(\"Digite um número de 0 a 10: \"))\n",
    "    \n",
    "print(\"Nota: \", nota)"
   ]
  },
  {
   "cell_type": "markdown",
   "metadata": {},
   "source": [
    "Outro exemplo..."
   ]
  },
  {
   "cell_type": "code",
   "execution_count": null,
   "metadata": {},
   "outputs": [],
   "source": [
    "genero = \"\"\n",
    "\n",
    "while genero != \"M\" and genero != \"F\" and genero != \"O\":\n",
    "    genero = input(\"Digite seu genero: \")\n",
    "    \n",
    "print(\"Genero: \", genero)"
   ]
  },
  {
   "cell_type": "code",
   "execution_count": null,
   "metadata": {},
   "outputs": [],
   "source": [
    "tipoCombustivel = input(\"Qual o tipo de combustivel desejado: \")\n",
    "\n",
    "while tipoCombustivel.lower() != \"a\" and tipoCombustivel.lower() != \"g\":\n",
    "    print(\"Tipo inválido!\")\n",
    "    tipoCombustivel = input(\"Qual o tipo de combustivel desejado: \")\n",
    "    \n",
    "print(\"Tipo:\", tipoCombustivel.upper())"
   ]
  },
  {
   "cell_type": "markdown",
   "metadata": {},
   "source": [
    "## break, continue e else\n",
    "\n",
    "O while pode ser parado no meio com o break, isso é utilizado caso exista algum(ns) casos excepcionais onde seu código deve parar ou mesmo para poupar processamento em um loop que já fez o que precisava e usava a condição inicial apenas como limite de iterações."
   ]
  },
  {
   "cell_type": "code",
   "execution_count": null,
   "metadata": {},
   "outputs": [],
   "source": [
    "cont = 0\n",
    "\n",
    "while cont < 10:\n",
    "    cont += 1\n",
    "    if cont == 3:\n",
    "        break\n",
    "    print(cont)"
   ]
  },
  {
   "cell_type": "markdown",
   "metadata": {},
   "source": [
    "Com o comando continue conseguimos parar uma iteração no meio e recomeçar o bloco do while."
   ]
  },
  {
   "cell_type": "code",
   "execution_count": null,
   "metadata": {},
   "outputs": [],
   "source": [
    "cont = 0\n",
    "\n",
    "while cont < 10:\n",
    "    cont += 1\n",
    "    if cont == 3:\n",
    "        continue\n",
    "    print(cont)"
   ]
  },
  {
   "cell_type": "markdown",
   "metadata": {},
   "source": [
    "O else aqui vai se comportar como um **\"e então\"**, pois será o bloco de código que rodará quando, se **e somente se**, a condição do while não for mais satisfeita."
   ]
  },
  {
   "cell_type": "code",
   "execution_count": null,
   "metadata": {},
   "outputs": [],
   "source": [
    "cont = 0\n",
    "\n",
    "while cont < 10:\n",
    "    cont += 1\n",
    "    if cont == 5:\n",
    "        break\n",
    "    print(cont)\n",
    "else:\n",
    "    print(\"Fim\")"
   ]
  },
  {
   "cell_type": "markdown",
   "metadata": {},
   "source": [
    "# Calculando primos com loops"
   ]
  },
  {
   "cell_type": "code",
   "execution_count": null,
   "metadata": {},
   "outputs": [],
   "source": []
  },
  {
   "cell_type": "markdown",
   "metadata": {},
   "source": [
    "---\n",
    "\n",
    "## Exercícios\n",
    "\n",
    "**1)** Print the following patterns using loop :\n",
    "\n",
    "a.<br>\n",
    "\n",
    "\\*<br>\n",
    "\\*\\*<br>\n",
    "\\*\\*\\*<br>\n",
    "\\*\\*\\*\\*<br>\n",
    "\n",
    "b.<br>\n",
    "\n",
    "  \\*  <br>\n",
    " \\*\\*\\* <br>\n",
    "\\*\\*\\*\\*\\*<br>\n",
    " \\*\\*\\* <br>\n",
    "  \\*  <br>"
   ]
  },
  {
   "cell_type": "code",
   "execution_count": null,
   "metadata": {},
   "outputs": [],
   "source": []
  },
  {
   "cell_type": "code",
   "execution_count": null,
   "metadata": {},
   "outputs": [],
   "source": []
  },
  {
   "cell_type": "markdown",
   "metadata": {},
   "source": [
    "**2)** Reverse a given integer number"
   ]
  },
  {
   "cell_type": "code",
   "execution_count": null,
   "metadata": {},
   "outputs": [],
   "source": []
  },
  {
   "cell_type": "markdown",
   "metadata": {},
   "source": [
    "**3)** Escreva um programa que encontra o maximo divisor comum entre dois números"
   ]
  },
  {
   "cell_type": "code",
   "execution_count": null,
   "metadata": {},
   "outputs": [],
   "source": []
  },
  {
   "cell_type": "markdown",
   "metadata": {},
   "source": [
    "**4)** Faça a somatória de todos os numeros seguindo a sequência: <br>\n",
    "\n",
    "$ \\frac{1}{1} + \\frac{1}{2} + \\frac{1}{3} + \\frac{1}{4} + \\frac{1}{5} + \\frac{1}{6} + ... + \\frac{1}{1000} $\n",
    "\n"
   ]
  },
  {
   "cell_type": "code",
   "execution_count": null,
   "metadata": {},
   "outputs": [],
   "source": []
  },
  {
   "cell_type": "markdown",
   "metadata": {},
   "source": [
    "\n",
    "$ \\frac{1}{1} + \\frac{1}{2} + \\frac{1}{4} + \\frac{1}{8} + \\frac{1}{16} + \\frac{1}{32} + ... + \\frac{1}{2^{n}} $\n",
    "\n"
   ]
  },
  {
   "cell_type": "code",
   "execution_count": null,
   "metadata": {},
   "outputs": [],
   "source": []
  },
  {
   "cell_type": "markdown",
   "metadata": {},
   "source": [
    "**5)** Seguindo a mesma ideia do exercício 4, faça a soma da seguinte sequência: <br>\n",
    "\n",
    "$ \\frac{1}{1!} + \\frac{1}{2!} + \\frac{1}{3!} + \\frac{1}{4!} + \\frac{1}{5!} + \\frac{1}{6!} + ... + \\frac{1}{100!} $"
   ]
  },
  {
   "cell_type": "code",
   "execution_count": null,
   "metadata": {},
   "outputs": [],
   "source": []
  },
  {
   "cell_type": "markdown",
   "metadata": {},
   "source": [
    "**6)** Faça uma calculadora de investimentos que define se um fundo gera lucro real (rendimento acima da inflação) ao final de 12 meses, considerando o rendimento mensal projetado, a taxa de administração do fundo, a inflação no ano, come-cotas ( vamos considerar 15%) e o capital investido. Caso positivo, informe quanto foi esse lucro."
   ]
  },
  {
   "cell_type": "code",
   "execution_count": null,
   "metadata": {},
   "outputs": [],
   "source": []
  }
 ],
 "metadata": {
  "kernelspec": {
   "display_name": "Python 3 (ipykernel)",
   "language": "python",
   "name": "python3"
  },
  "language_info": {
   "codemirror_mode": {
    "name": "ipython",
    "version": 3
   },
   "file_extension": ".py",
   "mimetype": "text/x-python",
   "name": "python",
   "nbconvert_exporter": "python",
   "pygments_lexer": "ipython3",
   "version": "3.9.7"
  }
 },
 "nbformat": 4,
 "nbformat_minor": 4
}
