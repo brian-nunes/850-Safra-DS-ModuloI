{
 "cells": [
  {
   "cell_type": "markdown",
   "metadata": {},
   "source": [
    "# Recursividade"
   ]
  },
  {
   "cell_type": "markdown",
   "metadata": {},
   "source": [
    "5! = 5.4.3.2.1\n",
    "\n",
    "4! = 4.3.2.1\n",
    "\n",
    "3! = 3.2.1\n",
    "\n",
    "5! = 5.4!\n",
    "\n",
    "4! = 4.3!\n",
    "\n",
    "3! = 3.2!\n",
    "\n",
    "2! = 2.1!\n",
    "\n",
    "1! = 1.0!\n",
    "\n",
    "0! = 1\n",
    "\n",
    "5! = 5.4.3!"
   ]
  },
  {
   "cell_type": "code",
   "execution_count": null,
   "metadata": {},
   "outputs": [],
   "source": []
  },
  {
   "cell_type": "markdown",
   "metadata": {},
   "source": [
    "Função que retorna o N-ésimo elemento de fibonacci"
   ]
  },
  {
   "cell_type": "code",
   "execution_count": null,
   "metadata": {},
   "outputs": [],
   "source": []
  },
  {
   "cell_type": "markdown",
   "metadata": {},
   "source": [
    "Função que soma listas com sublistas"
   ]
  },
  {
   "cell_type": "code",
   "execution_count": null,
   "metadata": {},
   "outputs": [],
   "source": [
    "listaGabarito = [[0, 3, 5, 1], 2, 3, [2, [5, 6, 7, [1, 4, 6]], 3], 2, [3, 5, 10, [6]]]\n",
    "print(somaTudo(listaGabarito))"
   ]
  },
  {
   "cell_type": "markdown",
   "metadata": {},
   "source": [
    "# Funções Lambda"
   ]
  },
  {
   "cell_type": "markdown",
   "metadata": {},
   "source": [
    "lambda (parametros): (retorno/expressao)"
   ]
  },
  {
   "cell_type": "code",
   "execution_count": null,
   "metadata": {},
   "outputs": [],
   "source": [
    "somaDois = lambda x: x + 2"
   ]
  },
  {
   "cell_type": "code",
   "execution_count": null,
   "metadata": {},
   "outputs": [],
   "source": [
    "somaDois(7)"
   ]
  },
  {
   "cell_type": "code",
   "execution_count": null,
   "metadata": {},
   "outputs": [],
   "source": [
    "calculaArea = lambda x, y: x*y\n",
    "calculaArea(3, 2)"
   ]
  },
  {
   "cell_type": "code",
   "execution_count": null,
   "metadata": {},
   "outputs": [],
   "source": [
    "type(calculaArea)"
   ]
  },
  {
   "cell_type": "markdown",
   "metadata": {},
   "source": [
    "Funções anônimas"
   ]
  },
  {
   "cell_type": "code",
   "execution_count": null,
   "metadata": {},
   "outputs": [],
   "source": [
    "def funcaoMultiplicadora(n):\n",
    "    return lambda x : x * n"
   ]
  },
  {
   "cell_type": "code",
   "execution_count": null,
   "metadata": {},
   "outputs": [],
   "source": [
    "dobradora = funcaoMultiplicadora(2)"
   ]
  },
  {
   "cell_type": "code",
   "execution_count": null,
   "metadata": {},
   "outputs": [],
   "source": [
    "dobradora = lambda x : x * 2"
   ]
  },
  {
   "cell_type": "code",
   "execution_count": null,
   "metadata": {},
   "outputs": [],
   "source": [
    "dobradora(10)"
   ]
  },
  {
   "cell_type": "code",
   "execution_count": null,
   "metadata": {},
   "outputs": [],
   "source": [
    "triplicadora = funcaoMultiplicadora(3)"
   ]
  },
  {
   "cell_type": "code",
   "execution_count": null,
   "metadata": {},
   "outputs": [],
   "source": [
    "triplicadora(5)"
   ]
  },
  {
   "cell_type": "code",
   "execution_count": null,
   "metadata": {},
   "outputs": [],
   "source": [
    "listaTeste = [[\"c\", 1], [\"d\", 2], [\"a\", 5],[\"b\", 3], [\"a\", 3]]"
   ]
  },
  {
   "cell_type": "code",
   "execution_count": null,
   "metadata": {},
   "outputs": [],
   "source": [
    "segundaColuna = lambda x : x[1]"
   ]
  },
  {
   "cell_type": "code",
   "execution_count": null,
   "metadata": {},
   "outputs": [],
   "source": [
    "segundaColuna(listaTeste)"
   ]
  },
  {
   "cell_type": "code",
   "execution_count": null,
   "metadata": {},
   "outputs": [],
   "source": [
    "def colunaDois(x):\n",
    "    return x[1]"
   ]
  },
  {
   "cell_type": "code",
   "execution_count": null,
   "metadata": {},
   "outputs": [],
   "source": [
    "listaTeste.sort(key = colunaDois)\n",
    "listaTeste"
   ]
  },
  {
   "cell_type": "code",
   "execution_count": null,
   "metadata": {},
   "outputs": [],
   "source": [
    "listaTeste.sort(key = lambda x : [x[1], x[0]])\n",
    "listaTeste"
   ]
  },
  {
   "cell_type": "markdown",
   "metadata": {},
   "source": [
    "Aplicação prática"
   ]
  },
  {
   "cell_type": "code",
   "execution_count": null,
   "metadata": {},
   "outputs": [],
   "source": [
    "dicionarioFormulas = {\n",
    "    \"Q\": lambda x : x**2,\n",
    "    \"C\": lambda r : 3.14159*r**2,\n",
    "    \"T\": lambda x : 3**(1/2)/4*x**2\n",
    "}\n",
    "\n",
    "def calculaArea(lado, funcao):\n",
    "    return funcao(lado)\n",
    "\n",
    "formaGeometrica = input(\"Qual forma você deseja calcular a área?(Q/C/T) \")\n",
    "tamanhoLado = int(input(\"Qual o tamanho da referência? \"))\n",
    "\n",
    "print(calculaArea(tamanhoLado, dicionarioFormulas[formaGeometrica]))"
   ]
  }
 ],
 "metadata": {
  "interpreter": {
   "hash": "f62fd1b5f2f7bb8cee509ef117ad7243bf648f347219a0eab91c7e32772de67b"
  },
  "kernelspec": {
   "display_name": "Python 3.10.4 64-bit (windows store)",
   "language": "python",
   "name": "python3"
  },
  "language_info": {
   "codemirror_mode": {
    "name": "ipython",
    "version": 3
   },
   "file_extension": ".py",
   "mimetype": "text/x-python",
   "name": "python",
   "nbconvert_exporter": "python",
   "pygments_lexer": "ipython3",
   "version": "3.10.4"
  }
 },
 "nbformat": 4,
 "nbformat_minor": 4
}
